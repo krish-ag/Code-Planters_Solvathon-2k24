{
 "cells": [
  {
   "cell_type": "code",
   "execution_count": 7,
   "metadata": {},
   "outputs": [],
   "source": [
    "import pandas as pd\n",
    "import numpy as np\n",
    "from datetime import datetime, timedelta\n"
   ]
  },
  {
   "cell_type": "code",
   "execution_count": 8,
   "metadata": {},
   "outputs": [],
   "source": [
    "\n",
    "start_timestamp = datetime(2023, 6, 1)\n",
    "num_data_points = 10000\n"
   ]
  },
  {
   "cell_type": "code",
   "execution_count": 9,
   "metadata": {},
   "outputs": [],
   "source": [
    "timestamps = [start_timestamp + timedelta(minutes=i) for i in range(num_data_points)]\n",
    "temperature = np.random.normal(loc=25, scale=2, size=num_data_points)\n",
    "vibration = np.random.normal(loc=0.05, scale=0.02, size=num_data_points)\n",
    "pressure = np.random.normal(loc=15, scale=0.7, size=num_data_points)\n",
    "failure = np.zeros(num_data_points)\n",
    "\n"
   ]
  },
  {
   "cell_type": "code",
   "execution_count": 10,
   "metadata": {},
   "outputs": [],
   "source": [
    "failure_indices = np.random.choice(range(num_data_points), size=int(num_data_points * 0.2), replace=False)\n",
    "failure[failure_indices] = 1\n"
   ]
  },
  {
   "cell_type": "code",
   "execution_count": 11,
   "metadata": {},
   "outputs": [],
   "source": [
    "data = pd.DataFrame({\n",
    "    'timestamp': timestamps,\n",
    "    'temperature': temperature,\n",
    "    'vibration': vibration,\n",
    "    'pressure': pressure,\n",
    "    'failure': failure\n",
    "})\n"
   ]
  },
  {
   "cell_type": "code",
   "execution_count": 12,
   "metadata": {},
   "outputs": [],
   "source": [
    "data.to_csv(\"Datasets/sensor_data.csv\", index=False)"
   ]
  },
  {
   "cell_type": "code",
   "execution_count": null,
   "metadata": {},
   "outputs": [],
   "source": []
  }
 ],
 "metadata": {
  "kernelspec": {
   "display_name": "Python 3",
   "language": "python",
   "name": "python3"
  },
  "language_info": {
   "codemirror_mode": {
    "name": "ipython",
    "version": 3
   },
   "file_extension": ".py",
   "mimetype": "text/x-python",
   "name": "python",
   "nbconvert_exporter": "python",
   "pygments_lexer": "ipython3",
   "version": "3.12.0"
  }
 },
 "nbformat": 4,
 "nbformat_minor": 2
}
